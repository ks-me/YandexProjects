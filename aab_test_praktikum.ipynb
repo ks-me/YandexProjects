{
 "cells": [
  {
   "cell_type": "markdown",
   "metadata": {},
   "source": [
    "# Приложение. Магазин продуктов."
   ]
  },
  {
   "cell_type": "markdown",
   "metadata": {},
   "source": [
    "### Описание проекта\n",
    "Стартап, продающий продукты питания, хочет протестировать изменение шрифтов в своем приложении.\n",
    "\n",
    "### Задачи: \n",
    "\n",
    "* Изучить воронку продаж. Узнайть, как пользователи доходят до покупки. Сколько пользователей доходит до покупки, а сколько — «застревает» на предыдущих шагах? На каких именно?\n",
    "* Исследовать результаты A/A/B-эксперимента. Тестируется изменение шрифтов в приложении.\n",
    "\n",
    "\n",
    "### Описание данных\n",
    "- Каждая запись в логе — это действие пользователя, или событие.\n",
    "- EventName — название события;\n",
    "- DeviceIDHash — уникальный идентификатор пользователя;\n",
    "- EventTimestamp — время события;\n",
    "- ExpId — номер эксперимента: 246 и 247 — контрольные группы, а 248 — экспериментальная.\n",
    "\n",
    "\n"
   ]
  },
  {
   "cell_type": "markdown",
   "metadata": {},
   "source": [
    "## Импорт данных и библиотек"
   ]
  },
  {
   "cell_type": "code",
   "execution_count": 1,
   "metadata": {},
   "outputs": [],
   "source": [
    "# импорт библиотек\n",
    "import pandas as pd\n",
    "import numpy as np\n",
    "import scipy.stats as st\n",
    "import matplotlib.pyplot as plt\n",
    "from datetime import datetime\n",
    "import seaborn as sns\n",
    "#from bs4 import BeautifulSoup\n",
    "import warnings\n",
    "import plotly.express as px\n",
    "from plotly import graph_objects as go\n",
    "import plotly.io as pio\n",
    "pio.renderers\n",
    "warnings.filterwarnings('ignore')\n",
    "import requests\n",
    "\n",
    "#conda install -c plotly plotly-orca"
   ]
  },
  {
   "cell_type": "code",
   "execution_count": 2,
   "metadata": {},
   "outputs": [
    {
     "data": {
      "text/html": [
       "<div>\n",
       "<style scoped>\n",
       "    .dataframe tbody tr th:only-of-type {\n",
       "        vertical-align: middle;\n",
       "    }\n",
       "\n",
       "    .dataframe tbody tr th {\n",
       "        vertical-align: top;\n",
       "    }\n",
       "\n",
       "    .dataframe thead th {\n",
       "        text-align: right;\n",
       "    }\n",
       "</style>\n",
       "<table border=\"1\" class=\"dataframe\">\n",
       "  <thead>\n",
       "    <tr style=\"text-align: right;\">\n",
       "      <th></th>\n",
       "      <th>EventName</th>\n",
       "      <th>DeviceIDHash</th>\n",
       "      <th>EventTimestamp</th>\n",
       "      <th>ExpId</th>\n",
       "    </tr>\n",
       "  </thead>\n",
       "  <tbody>\n",
       "    <tr>\n",
       "      <th>0</th>\n",
       "      <td>MainScreenAppear</td>\n",
       "      <td>4575588528974610257</td>\n",
       "      <td>1564029816</td>\n",
       "      <td>246</td>\n",
       "    </tr>\n",
       "    <tr>\n",
       "      <th>1</th>\n",
       "      <td>MainScreenAppear</td>\n",
       "      <td>7416695313311560658</td>\n",
       "      <td>1564053102</td>\n",
       "      <td>246</td>\n",
       "    </tr>\n",
       "    <tr>\n",
       "      <th>2</th>\n",
       "      <td>PaymentScreenSuccessful</td>\n",
       "      <td>3518123091307005509</td>\n",
       "      <td>1564054127</td>\n",
       "      <td>248</td>\n",
       "    </tr>\n",
       "    <tr>\n",
       "      <th>3</th>\n",
       "      <td>CartScreenAppear</td>\n",
       "      <td>3518123091307005509</td>\n",
       "      <td>1564054127</td>\n",
       "      <td>248</td>\n",
       "    </tr>\n",
       "    <tr>\n",
       "      <th>4</th>\n",
       "      <td>PaymentScreenSuccessful</td>\n",
       "      <td>6217807653094995999</td>\n",
       "      <td>1564055322</td>\n",
       "      <td>248</td>\n",
       "    </tr>\n",
       "  </tbody>\n",
       "</table>\n",
       "</div>"
      ],
      "text/plain": [
       "                 EventName         DeviceIDHash  EventTimestamp  ExpId\n",
       "0         MainScreenAppear  4575588528974610257      1564029816    246\n",
       "1         MainScreenAppear  7416695313311560658      1564053102    246\n",
       "2  PaymentScreenSuccessful  3518123091307005509      1564054127    248\n",
       "3         CartScreenAppear  3518123091307005509      1564054127    248\n",
       "4  PaymentScreenSuccessful  6217807653094995999      1564055322    248"
      ]
     },
     "execution_count": 2,
     "metadata": {},
     "output_type": "execute_result"
    }
   ],
   "source": [
    "# импорт данных\n",
    "path = 'C://Users//lenovo//Documents//Y.Praktikum//datasets//logs_exp.csv'\n",
    "data = pd.read_csv(path, sep='\\t')\n",
    "data.head()"
   ]
  },
  {
   "cell_type": "markdown",
   "metadata": {},
   "source": [
    "## Подготовка данных"
   ]
  },
  {
   "cell_type": "code",
   "execution_count": 3,
   "metadata": {},
   "outputs": [
    {
     "name": "stdout",
     "output_type": "stream",
     "text": [
      "<class 'pandas.core.frame.DataFrame'>\n",
      "RangeIndex: 244126 entries, 0 to 244125\n",
      "Data columns (total 4 columns):\n",
      " #   Column          Non-Null Count   Dtype \n",
      "---  ------          --------------   ----- \n",
      " 0   event_name      244126 non-null  object\n",
      " 1   user_id         244126 non-null  int64 \n",
      " 2   event_datetime  244126 non-null  int64 \n",
      " 3   group           244126 non-null  int64 \n",
      "dtypes: int64(3), object(1)\n",
      "memory usage: 7.5+ MB\n"
     ]
    }
   ],
   "source": [
    "data.columns=['event_name', 'user_id', 'event_datetime', 'group']\n",
    "data.info()"
   ]
  },
  {
   "cell_type": "code",
   "execution_count": 4,
   "metadata": {},
   "outputs": [
    {
     "data": {
      "text/plain": [
       "event_name        0\n",
       "user_id           0\n",
       "event_datetime    0\n",
       "group             0\n",
       "dtype: int64"
      ]
     },
     "execution_count": 4,
     "metadata": {},
     "output_type": "execute_result"
    }
   ],
   "source": [
    "# проверим на пропуски\n",
    "pd.isnull(data).sum()"
   ]
  },
  {
   "cell_type": "code",
   "execution_count": 5,
   "metadata": {},
   "outputs": [
    {
     "name": "stdout",
     "output_type": "stream",
     "text": [
      "Кол-во дубликатов: 413\n"
     ]
    }
   ],
   "source": [
    "# проверим на дубликаты\n",
    "print('Кол-во дубликатов:',data.duplicated().sum())"
   ]
  },
  {
   "cell_type": "code",
   "execution_count": 6,
   "metadata": {},
   "outputs": [
    {
     "data": {
      "text/html": [
       "<div>\n",
       "<style scoped>\n",
       "    .dataframe tbody tr th:only-of-type {\n",
       "        vertical-align: middle;\n",
       "    }\n",
       "\n",
       "    .dataframe tbody tr th {\n",
       "        vertical-align: top;\n",
       "    }\n",
       "\n",
       "    .dataframe thead th {\n",
       "        text-align: right;\n",
       "    }\n",
       "</style>\n",
       "<table border=\"1\" class=\"dataframe\">\n",
       "  <thead>\n",
       "    <tr style=\"text-align: right;\">\n",
       "      <th></th>\n",
       "      <th>event_name</th>\n",
       "      <th>user_id</th>\n",
       "      <th>event_datetime</th>\n",
       "      <th>group</th>\n",
       "    </tr>\n",
       "  </thead>\n",
       "  <tbody>\n",
       "    <tr>\n",
       "      <th>0</th>\n",
       "      <td>MainScreenAppear</td>\n",
       "      <td>4575588528974610257</td>\n",
       "      <td>1564029816</td>\n",
       "      <td>246</td>\n",
       "    </tr>\n",
       "    <tr>\n",
       "      <th>1</th>\n",
       "      <td>MainScreenAppear</td>\n",
       "      <td>7416695313311560658</td>\n",
       "      <td>1564053102</td>\n",
       "      <td>246</td>\n",
       "    </tr>\n",
       "    <tr>\n",
       "      <th>2</th>\n",
       "      <td>PaymentScreenSuccessful</td>\n",
       "      <td>3518123091307005509</td>\n",
       "      <td>1564054127</td>\n",
       "      <td>248</td>\n",
       "    </tr>\n",
       "    <tr>\n",
       "      <th>3</th>\n",
       "      <td>CartScreenAppear</td>\n",
       "      <td>3518123091307005509</td>\n",
       "      <td>1564054127</td>\n",
       "      <td>248</td>\n",
       "    </tr>\n",
       "    <tr>\n",
       "      <th>4</th>\n",
       "      <td>PaymentScreenSuccessful</td>\n",
       "      <td>6217807653094995999</td>\n",
       "      <td>1564055322</td>\n",
       "      <td>248</td>\n",
       "    </tr>\n",
       "  </tbody>\n",
       "</table>\n",
       "</div>"
      ],
      "text/plain": [
       "                event_name              user_id  event_datetime  group\n",
       "0         MainScreenAppear  4575588528974610257      1564029816    246\n",
       "1         MainScreenAppear  7416695313311560658      1564053102    246\n",
       "2  PaymentScreenSuccessful  3518123091307005509      1564054127    248\n",
       "3         CartScreenAppear  3518123091307005509      1564054127    248\n",
       "4  PaymentScreenSuccessful  6217807653094995999      1564055322    248"
      ]
     },
     "execution_count": 6,
     "metadata": {},
     "output_type": "execute_result"
    }
   ],
   "source": [
    "# дубликаты есть. Удалим их.\n",
    "data.drop_duplicates(inplace=True)\n",
    "data.head()"
   ]
  },
  {
   "cell_type": "code",
   "execution_count": 7,
   "metadata": {},
   "outputs": [],
   "source": [
    "# изменим тип данных в event_datetime\n",
    "data['event_datetime'] = pd.to_datetime(data['event_datetime'], unit='s')"
   ]
  },
  {
   "cell_type": "code",
   "execution_count": 8,
   "metadata": {},
   "outputs": [
    {
     "data": {
      "text/html": [
       "<div>\n",
       "<style scoped>\n",
       "    .dataframe tbody tr th:only-of-type {\n",
       "        vertical-align: middle;\n",
       "    }\n",
       "\n",
       "    .dataframe tbody tr th {\n",
       "        vertical-align: top;\n",
       "    }\n",
       "\n",
       "    .dataframe thead th {\n",
       "        text-align: right;\n",
       "    }\n",
       "</style>\n",
       "<table border=\"1\" class=\"dataframe\">\n",
       "  <thead>\n",
       "    <tr style=\"text-align: right;\">\n",
       "      <th></th>\n",
       "      <th>event_name</th>\n",
       "      <th>user_id</th>\n",
       "      <th>event_datetime</th>\n",
       "      <th>group</th>\n",
       "      <th>date</th>\n",
       "    </tr>\n",
       "  </thead>\n",
       "  <tbody>\n",
       "    <tr>\n",
       "      <th>0</th>\n",
       "      <td>MainScreenAppear</td>\n",
       "      <td>4575588528974610257</td>\n",
       "      <td>2019-07-25 04:43:36</td>\n",
       "      <td>246</td>\n",
       "      <td>2019-07-25</td>\n",
       "    </tr>\n",
       "    <tr>\n",
       "      <th>1</th>\n",
       "      <td>MainScreenAppear</td>\n",
       "      <td>7416695313311560658</td>\n",
       "      <td>2019-07-25 11:11:42</td>\n",
       "      <td>246</td>\n",
       "      <td>2019-07-25</td>\n",
       "    </tr>\n",
       "    <tr>\n",
       "      <th>2</th>\n",
       "      <td>PaymentScreenSuccessful</td>\n",
       "      <td>3518123091307005509</td>\n",
       "      <td>2019-07-25 11:28:47</td>\n",
       "      <td>248</td>\n",
       "      <td>2019-07-25</td>\n",
       "    </tr>\n",
       "    <tr>\n",
       "      <th>3</th>\n",
       "      <td>CartScreenAppear</td>\n",
       "      <td>3518123091307005509</td>\n",
       "      <td>2019-07-25 11:28:47</td>\n",
       "      <td>248</td>\n",
       "      <td>2019-07-25</td>\n",
       "    </tr>\n",
       "    <tr>\n",
       "      <th>4</th>\n",
       "      <td>PaymentScreenSuccessful</td>\n",
       "      <td>6217807653094995999</td>\n",
       "      <td>2019-07-25 11:48:42</td>\n",
       "      <td>248</td>\n",
       "      <td>2019-07-25</td>\n",
       "    </tr>\n",
       "  </tbody>\n",
       "</table>\n",
       "</div>"
      ],
      "text/plain": [
       "                event_name              user_id      event_datetime  group  \\\n",
       "0         MainScreenAppear  4575588528974610257 2019-07-25 04:43:36    246   \n",
       "1         MainScreenAppear  7416695313311560658 2019-07-25 11:11:42    246   \n",
       "2  PaymentScreenSuccessful  3518123091307005509 2019-07-25 11:28:47    248   \n",
       "3         CartScreenAppear  3518123091307005509 2019-07-25 11:28:47    248   \n",
       "4  PaymentScreenSuccessful  6217807653094995999 2019-07-25 11:48:42    248   \n",
       "\n",
       "         date  \n",
       "0  2019-07-25  \n",
       "1  2019-07-25  \n",
       "2  2019-07-25  \n",
       "3  2019-07-25  \n",
       "4  2019-07-25  "
      ]
     },
     "execution_count": 8,
     "metadata": {},
     "output_type": "execute_result"
    }
   ],
   "source": [
    "#добавим столбец отдельно с датой\n",
    "data['date'] = data['event_datetime'].map(lambda x: x.strftime('%Y-%m-%d'))\n",
    "#data['time'] = data['event_datetime'].map(lambda x: x.strftime('%H:%M:%S'))\n",
    "data.head()"
   ]
  },
  {
   "cell_type": "markdown",
   "metadata": {},
   "source": [
    "## Изучение и проверка данных"
   ]
  },
  {
   "cell_type": "code",
   "execution_count": 9,
   "metadata": {},
   "outputs": [
    {
     "name": "stdout",
     "output_type": "stream",
     "text": [
      "<class 'pandas.core.frame.DataFrame'>\n",
      "Int64Index: 243713 entries, 0 to 244125\n",
      "Data columns (total 5 columns):\n",
      " #   Column          Non-Null Count   Dtype         \n",
      "---  ------          --------------   -----         \n",
      " 0   event_name      243713 non-null  object        \n",
      " 1   user_id         243713 non-null  int64         \n",
      " 2   event_datetime  243713 non-null  datetime64[ns]\n",
      " 3   group           243713 non-null  int64         \n",
      " 4   date            243713 non-null  object        \n",
      "dtypes: datetime64[ns](1), int64(2), object(2)\n",
      "memory usage: 11.2+ MB\n"
     ]
    }
   ],
   "source": [
    "data.info()"
   ]
  },
  {
   "cell_type": "code",
   "execution_count": 10,
   "metadata": {},
   "outputs": [
    {
     "data": {
      "text/plain": [
       "MainScreenAppear           119101\n",
       "OffersScreenAppear          46808\n",
       "CartScreenAppear            42668\n",
       "PaymentScreenSuccessful     34118\n",
       "Tutorial                     1018\n",
       "Name: event_name, dtype: int64"
      ]
     },
     "execution_count": 10,
     "metadata": {},
     "output_type": "execute_result"
    }
   ],
   "source": [
    "#всего разных типов событий\n",
    "data.event_name.value_counts()"
   ]
  },
  {
   "cell_type": "code",
   "execution_count": 11,
   "metadata": {},
   "outputs": [
    {
     "name": "stdout",
     "output_type": "stream",
     "text": [
      "Всего юзеров: 7551\n"
     ]
    }
   ],
   "source": [
    "#всего пользователей\n",
    "print('Всего юзеров:', data.user_id.nunique())"
   ]
  },
  {
   "cell_type": "code",
   "execution_count": 12,
   "metadata": {},
   "outputs": [
    {
     "name": "stdout",
     "output_type": "stream",
     "text": [
      "В среднем событий на юзера: 20.0\n"
     ]
    }
   ],
   "source": [
    "# сколько в среднем событий приходится на одного пользователя\n",
    "print('В среднем событий на юзера:', (data.groupby('user_id').agg({'event_name':'count'})).event_name.median()) #возьмем медиану, тк очень вероятно наличие выбросов"
   ]
  },
  {
   "cell_type": "code",
   "execution_count": 13,
   "metadata": {},
   "outputs": [
    {
     "name": "stdout",
     "output_type": "stream",
     "text": [
      "Минимальная дата:2019-07-25\n",
      "Максимальная дата:2019-08-07\n"
     ]
    }
   ],
   "source": [
    "#событиями за какой период располагаем?\n",
    "print('Минимальная дата:{}'.format(data['date'].min()))\n",
    "print('Максимальная дата:{}'.format(data['date'].max()))"
   ]
  },
  {
   "cell_type": "code",
   "execution_count": 14,
   "metadata": {},
   "outputs": [
    {
     "data": {
      "image/png": "[encoded data removed]",
      "text/plain": [
       "<Figure size 576x576 with 1 Axes>"
      ]
     },
     "metadata": {
      "needs_background": "light"
     },
     "output_type": "display_data"
    }
   ],
   "source": [
    "plt.figure(figsize=(8, 8))\n",
    "plt.title(\"Кол-во пользователей по дням\")\n",
    "plt.plot(data.groupby('date').agg({'user_id':'count'}))\n",
    "plt.xticks(rotation=75)\n",
    "plt.xlabel(\"Дни\")\n",
    "plt.ylabel(\"Кол-во пользователей\")\n",
    "plt.grid(True)\n",
    "plt.show()"
   ]
  },
  {
   "cell_type": "markdown",
   "metadata": {},
   "source": [
    "Распределение логов во времени показывает, что до августа данных почти не было. Проверим, насколько критично будет их удаление."
   ]
  },
  {
   "cell_type": "code",
   "execution_count": 15,
   "metadata": {},
   "outputs": [
    {
     "name": "stdout",
     "output_type": "stream",
     "text": [
      "<class 'pandas.core.frame.DataFrame'>\n",
      "Int64Index: 240887 entries, 2828 to 244125\n",
      "Data columns (total 5 columns):\n",
      " #   Column          Non-Null Count   Dtype         \n",
      "---  ------          --------------   -----         \n",
      " 0   event_name      240887 non-null  object        \n",
      " 1   user_id         240887 non-null  int64         \n",
      " 2   event_datetime  240887 non-null  datetime64[ns]\n",
      " 3   group           240887 non-null  int64         \n",
      " 4   date            240887 non-null  object        \n",
      "dtypes: datetime64[ns](1), int64(2), object(2)\n",
      "memory usage: 11.0+ MB\n"
     ]
    }
   ],
   "source": [
    "data = data.loc[data['date'] >= '2019-08-01']\n",
    "data.info() #мы потеряли около 3к записей, что для нас не критично"
   ]
  },
  {
   "cell_type": "code",
   "execution_count": 16,
   "metadata": {},
   "outputs": [
    {
     "name": "stdout",
     "output_type": "stream",
     "text": [
      "При удалении данных до 1 августа мы потеряли 1.16% данных\n"
     ]
    }
   ],
   "source": [
    "print('При удалении данных до 1 августа мы потеряли {:.2%} данных'.format(1 - (240887 / 243713)))"
   ]
  },
  {
   "cell_type": "markdown",
   "metadata": {},
   "source": [
    "Есть наименнее распространенный тип события \"Tutorial\". Он не относится напрямую к воронке продаж, так что такие записи исключим:"
   ]
  },
  {
   "cell_type": "code",
   "execution_count": 17,
   "metadata": {},
   "outputs": [],
   "source": [
    "# также, сразу удалим записи с типом события туториал\n",
    "data = data.loc[data['event_name']!='Tutorial']"
   ]
  },
  {
   "cell_type": "code",
   "execution_count": 18,
   "metadata": {},
   "outputs": [
    {
     "data": {
      "text/plain": [
       "248    84213\n",
       "246    78985\n",
       "247    76684\n",
       "Name: group, dtype: int64"
      ]
     },
     "execution_count": 18,
     "metadata": {},
     "output_type": "execute_result"
    }
   ],
   "source": [
    "# проверим, все ли тестируемые группы представлены\n",
    "data.group.value_counts()"
   ]
  },
  {
   "cell_type": "markdown",
   "metadata": {},
   "source": [
    "##### Вывод:\n",
    "- Имеем данные за 2 недели: с 25 июля 2019 по 7 августа 2019.\n",
    "- Однако при этом на гистограмме наблюдается странная картина: ло 1 августа данных почти не было. То есть фактически мы располагаем данными только за одну неделю. Прочими можем пренебречь и потерять около 3000 записей.\n",
    "- Всего 7551 пользователей было за этот период.\n",
    "- В среднем на одного пользователя приходилось 20 событий.\n",
    "- Всего типов событий 5. От показа главного экрана до показа страницы с сообщением об успешной оплате. Это наша будущая воронка.\n",
    "- Также есть наименнее распространенный тип события \"Tutorial\". Он не относится напрямую к воронке продаж, так что такие записи исключили.\n",
    "- В логах есть представители всех тестируемых групп."
   ]
  },
  {
   "cell_type": "markdown",
   "metadata": {},
   "source": [
    "## Воронка событий"
   ]
  },
  {
   "cell_type": "code",
   "execution_count": 19,
   "metadata": {},
   "outputs": [
    {
     "data": {
      "text/html": [
       "<div>\n",
       "<style scoped>\n",
       "    .dataframe tbody tr th:only-of-type {\n",
       "        vertical-align: middle;\n",
       "    }\n",
       "\n",
       "    .dataframe tbody tr th {\n",
       "        vertical-align: top;\n",
       "    }\n",
       "\n",
       "    .dataframe thead th {\n",
       "        text-align: right;\n",
       "    }\n",
       "</style>\n",
       "<table border=\"1\" class=\"dataframe\">\n",
       "  <thead>\n",
       "    <tr style=\"text-align: right;\">\n",
       "      <th></th>\n",
       "      <th>event_name</th>\n",
       "      <th>events_number</th>\n",
       "    </tr>\n",
       "  </thead>\n",
       "  <tbody>\n",
       "    <tr>\n",
       "      <th>0</th>\n",
       "      <td>MainScreenAppear</td>\n",
       "      <td>7419</td>\n",
       "    </tr>\n",
       "    <tr>\n",
       "      <th>1</th>\n",
       "      <td>OffersScreenAppear</td>\n",
       "      <td>4593</td>\n",
       "    </tr>\n",
       "    <tr>\n",
       "      <th>2</th>\n",
       "      <td>CartScreenAppear</td>\n",
       "      <td>3734</td>\n",
       "    </tr>\n",
       "    <tr>\n",
       "      <th>3</th>\n",
       "      <td>PaymentScreenSuccessful</td>\n",
       "      <td>3539</td>\n",
       "    </tr>\n",
       "  </tbody>\n",
       "</table>\n",
       "</div>"
      ],
      "text/plain": [
       "                event_name  events_number\n",
       "0         MainScreenAppear           7419\n",
       "1       OffersScreenAppear           4593\n",
       "2         CartScreenAppear           3734\n",
       "3  PaymentScreenSuccessful           3539"
      ]
     },
     "execution_count": 19,
     "metadata": {},
     "output_type": "execute_result"
    }
   ],
   "source": [
    "event_name_grouped = (data.groupby('event_name').agg({'user_id':'nunique'})).sort_values(\n",
    "    by='user_id',ascending=False)\n",
    "event_name_grouped = event_name_grouped.reset_index()\n",
    "event_name_grouped.columns=['event_name', 'events_number']\n",
    "event_name_grouped#.reset_index()"
   ]
  },
  {
   "cell_type": "code",
   "execution_count": 20,
   "metadata": {},
   "outputs": [
    {
     "data": {
      "image/svg+xml": [
       "<svg class=\"main-svg\" xmlns=\"http://www.w3.org/2000/svg\" xmlns:xlink=\"http://www.w3.org/1999/xlink\" width=\"700\" height=\"450\" style=\"\" viewBox=\"0 0 700 450\"><rect x=\"0\" y=\"0\" width=\"700\" height=\"450\" style=\"fill: rgb(255, 255, 255); fill-opacity: 1;\"/><defs id=\"defs-60e782\"><g class=\"clips\"><clipPath id=\"clip60e782xyplot\" class=\"plotclip\"><rect width=\"450\" height=\"270\"/></clipPath><clipPath class=\"axesclip\" id=\"clip60e782x\"><rect x=\"170\" y=\"0\" width=\"450\" height=\"450\"/></clipPath><clipPath class=\"axesclip\" id=\"clip60e782y\"><rect x=\"0\" y=\"100\" width=\"700\" height=\"270\"/></clipPath><clipPath class=\"axesclip\" id=\"clip60e782xy\"><rect x=\"170\" y=\"100\" width=\"450\" height=\"270\"/></clipPath></g><g class=\"gradients\"/></defs><g class=\"bglayer\"><rect class=\"bg\" x=\"170\" y=\"100\" width=\"450\" height=\"270\" style=\"fill: rgb(229, 236, 246); fill-opacity: 1; stroke-width: 0;\"/></g><g class=\"layer-below\"><g class=\"imagelayer\"/><g class=\"shapelayer\"/></g><g class=\"cartesianlayer\"><g class=\"subplot xy\"><g class=\"layer-subplot\"><g class=\"shapelayer\"/><g class=\"imagelayer\"/></g><g class=\"gridlayer\"><g class=\"x\"/><g class=\"y\"/></g><g class=\"zerolinelayer\"/><path class=\"xlines-below\"/><path class=\"ylines-below\"/><g class=\"overlines-below\"/><g class=\"xaxislayer-below\"/><g class=\"yaxislayer-below\"/><g class=\"overaxes-below\"/><g class=\"plot\" transform=\"translate(170, 100)\" clip-path=\"url('#clip60e782xyplot')\"><g class=\"funnellayer mlayer\"><g class=\"trace bars\" style=\"opacity: 1;\"><g class=\"regions\"><g class=\"region\"><path d=\"M22.5,60.75L99.64,74.25H350.36L427.5,60.75Z\" style=\"stroke-width: 0; fill: rgb(99, 110, 250); fill-opacity: 0.5;\"/></g><g class=\"region\"><path d=\"M99.64,128.25L123.08,141.75H326.92L350.36,128.25Z\" style=\"stroke-width: 0; fill: rgb(99, 110, 250); fill-opacity: 0.5;\"/></g><g class=\"region\"><path d=\"M123.08,195.75L128.4,209.25H321.6L326.92,195.75Z\" style=\"stroke-width: 0; fill: rgb(99, 110, 250); fill-opacity: 0.5;\"/></g><g class=\"region\"><path d=\"M0,0Z\" style=\"stroke-width: 0; fill: rgb(99, 110, 250); fill-opacity: 0.5;\"/></g></g><g class=\"points\"><g class=\"point\"><path d=\"M22.5,6.75V60.75H427.5V6.75Z\" style=\"vector-effect: non-scaling-stroke; fill: rgb(99, 110, 250); fill-opacity: 1; stroke: rgb(68, 68, 68); stroke-opacity: 1; stroke-width: 0px; opacity: 1;\"/><text class=\"bartext bartext-inside\" text-anchor=\"middle\" data-notex=\"1\" x=\"0\" y=\"0\" style=\"font-family: 'Open Sans', verdana, arial, sans-serif; font-size: 12px; fill: rgb(255, 255, 255); fill-opacity: 1; white-space: pre;\" transform=\"translate(225,38.546875)\">7419</text></g><g class=\"point\"><path d=\"M99.64,74.25V128.25H350.36V74.25Z\" style=\"vector-effect: non-scaling-stroke; fill: rgb(99, 110, 250); fill-opacity: 1; stroke: rgb(68, 68, 68); stroke-opacity: 1; stroke-width: 0px; opacity: 1;\"/><text class=\"bartext bartext-inside\" text-anchor=\"middle\" data-notex=\"1\" x=\"0\" y=\"0\" style=\"font-family: 'Open Sans', verdana, arial, sans-serif; font-size: 12px; fill: rgb(255, 255, 255); fill-opacity: 1; white-space: pre;\" transform=\"translate(225,106.046875)\">4593</text></g><g class=\"point\"><path d=\"M123.08,141.75V195.75H326.92V141.75Z\" style=\"vector-effect: non-scaling-stroke; fill: rgb(99, 110, 250); fill-opacity: 1; stroke: rgb(68, 68, 68); stroke-opacity: 1; stroke-width: 0px; opacity: 1;\"/><text class=\"bartext bartext-inside\" text-anchor=\"middle\" data-notex=\"1\" x=\"0\" y=\"0\" style=\"font-family: 'Open Sans', verdana, arial, sans-serif; font-size: 12px; fill: rgb(255, 255, 255); fill-opacity: 1; white-space: pre;\" transform=\"translate(224.8125,173.546875)\">3734</text></g><g class=\"point\"><path d=\"M128.4,209.25V263.25H321.6V209.25Z\" style=\"vector-effect: non-scaling-stroke; fill: rgb(99, 110, 250); fill-opacity: 1; stroke: rgb(68, 68, 68); stroke-opacity: 1; stroke-width: 0px; opacity: 1;\"/><text class=\"bartext bartext-inside\" text-anchor=\"middle\" data-notex=\"1\" x=\"0\" y=\"0\" style=\"font-family: 'Open Sans', verdana, arial, sans-serif; font-size: 12px; fill: rgb(255, 255, 255); fill-opacity: 1; white-space: pre;\" transform=\"translate(225,241.046875)\">3539</text></g></g></g></g></g><g class=\"overplot\"/><path class=\"xlines-above crisp\" d=\"M0,0\" style=\"fill: none;\"/><path class=\"ylines-above crisp\" d=\"M0,0\" style=\"fill: none;\"/><g class=\"overlines-above\"/><g class=\"xaxislayer-above\"/><g class=\"yaxislayer-above\"><g class=\"ytick\"><text text-anchor=\"end\" x=\"169\" y=\"4.199999999999999\" transform=\"translate(0,336.25)\" style=\"font-family: 'Open Sans', verdana, arial, sans-serif; font-size: 12px; fill: rgb(42, 63, 95); fill-opacity: 1; white-space: pre;\">PaymentScreenSuccessful</text></g><g class=\"ytick\"><text text-anchor=\"end\" x=\"169\" y=\"4.199999999999999\" transform=\"translate(0,268.75)\" style=\"font-family: 'Open Sans', verdana, arial, sans-serif; font-size: 12px; fill: rgb(42, 63, 95); fill-opacity: 1; white-space: pre;\">CartScreenAppear</text></g><g class=\"ytick\"><text text-anchor=\"end\" x=\"169\" y=\"4.199999999999999\" transform=\"translate(0,201.25)\" style=\"font-family: 'Open Sans', verdana, arial, sans-serif; font-size: 12px; fill: rgb(42, 63, 95); fill-opacity: 1; white-space: pre;\">OffersScreenAppear</text></g><g class=\"ytick\"><text text-anchor=\"end\" x=\"169\" y=\"4.199999999999999\" transform=\"translate(0,133.75)\" style=\"font-family: 'Open Sans', verdana, arial, sans-serif; font-size: 12px; fill: rgb(42, 63, 95); fill-opacity: 1; white-space: pre;\">MainScreenAppear</text></g></g><g class=\"overaxes-above\"/></g></g><g class=\"polarlayer\"/><g class=\"ternarylayer\"/><g class=\"geolayer\"/><g class=\"funnelarealayer\"/><g class=\"pielayer\"/><g class=\"treemaplayer\"/><g class=\"sunburstlayer\"/><g class=\"glimages\"/><defs id=\"topdefs-60e782\"><g class=\"clips\"/></defs><g class=\"layer-above\"><g class=\"imagelayer\"/><g class=\"shapelayer\"/></g><g class=\"infolayer\"><g class=\"g-gtitle\"/><g class=\"g-ytitle\"/></g></svg>"
      ]
     },
     "metadata": {},
     "output_type": "display_data"
    }
   ],
   "source": [
    "# построим воронку\n",
    "fig = go.Figure(go.Funnel(\n",
    "    y = event_name_grouped['event_name'],\n",
    "    x = event_name_grouped['events_number']\n",
    "    ))\n",
    "fig.show(renderer=\"svg\")"
   ]
  },
  {
   "cell_type": "markdown",
   "metadata": {},
   "source": [
    "##### Вывод:\n",
    "Из графика выше видим, что основная часть событий (38%) - это показ главного экрана. На этапе оффера у нас остается 61.9% от тех, кто увидел главный экран. На этапе экрана с оплатой остается 50.3%, и до конца (т.е. успешно завершают оплату) добираются 47.7%.\n",
    "\n",
    "Больше всего пользователей мы теряем на этапе перехода от главного экрана к офферу. Возможно пользователям что-то не понравилось на сайте или они туда попали по ошибке (скажем, случайно кликнули по нашему баннеру)."
   ]
  },
  {
   "cell_type": "markdown",
   "metadata": {},
   "source": [
    "## Изучим результаты эксперимента"
   ]
  },
  {
   "cell_type": "markdown",
   "metadata": {},
   "source": [
    "Для успешного А/А теста разница в количестве пользователей между тестируемыми группами должна быть <span style=\"color: red\">НЕ</span> слишком большой. Проверим."
   ]
  },
  {
   "cell_type": "code",
   "execution_count": 21,
   "metadata": {},
   "outputs": [
    {
     "data": {
      "text/html": [
       "<div>\n",
       "<style scoped>\n",
       "    .dataframe tbody tr th:only-of-type {\n",
       "        vertical-align: middle;\n",
       "    }\n",
       "\n",
       "    .dataframe tbody tr th {\n",
       "        vertical-align: top;\n",
       "    }\n",
       "\n",
       "    .dataframe thead th {\n",
       "        text-align: right;\n",
       "    }\n",
       "</style>\n",
       "<table border=\"1\" class=\"dataframe\">\n",
       "  <thead>\n",
       "    <tr style=\"text-align: right;\">\n",
       "      <th></th>\n",
       "      <th>group</th>\n",
       "      <th>events_number</th>\n",
       "    </tr>\n",
       "  </thead>\n",
       "  <tbody>\n",
       "    <tr>\n",
       "      <th>0</th>\n",
       "      <td>248</td>\n",
       "      <td>84213</td>\n",
       "    </tr>\n",
       "    <tr>\n",
       "      <th>1</th>\n",
       "      <td>246</td>\n",
       "      <td>78985</td>\n",
       "    </tr>\n",
       "    <tr>\n",
       "      <th>2</th>\n",
       "      <td>247</td>\n",
       "      <td>76684</td>\n",
       "    </tr>\n",
       "  </tbody>\n",
       "</table>\n",
       "</div>"
      ],
      "text/plain": [
       "   group  events_number\n",
       "0    248          84213\n",
       "1    246          78985\n",
       "2    247          76684"
      ]
     },
     "execution_count": 21,
     "metadata": {},
     "output_type": "execute_result"
    }
   ],
   "source": [
    "groups_count = ((data.group.value_counts()).to_frame()).reset_index()\n",
    "groups_count.columns = ['group', 'events_number']\n",
    "groups_count"
   ]
  },
  {
   "cell_type": "code",
   "execution_count": 22,
   "metadata": {},
   "outputs": [
    {
     "data": {
      "text/plain": [
       "-0.02913211369247326"
      ]
     },
     "execution_count": 22,
     "metadata": {},
     "output_type": "execute_result"
    }
   ],
   "source": [
    "# сравним контрольные группы 246 и 247\n",
    "76684 / 78985 - 1"
   ]
  },
  {
   "cell_type": "markdown",
   "metadata": {},
   "source": [
    "Группы отличаются на 3%. Это ок.\n",
    "Перейдем непосредственно к тестам."
   ]
  },
  {
   "cell_type": "code",
   "execution_count": 23,
   "metadata": {},
   "outputs": [
    {
     "data": {
      "text/html": [
       "<div>\n",
       "<style scoped>\n",
       "    .dataframe tbody tr th:only-of-type {\n",
       "        vertical-align: middle;\n",
       "    }\n",
       "\n",
       "    .dataframe tbody tr th {\n",
       "        vertical-align: top;\n",
       "    }\n",
       "\n",
       "    .dataframe thead th {\n",
       "        text-align: right;\n",
       "    }\n",
       "</style>\n",
       "<table border=\"1\" class=\"dataframe\">\n",
       "  <thead>\n",
       "    <tr style=\"text-align: right;\">\n",
       "      <th></th>\n",
       "      <th>event_name</th>\n",
       "      <th>user_id</th>\n",
       "    </tr>\n",
       "  </thead>\n",
       "  <tbody>\n",
       "    <tr>\n",
       "      <th>1</th>\n",
       "      <td>MainScreenAppear</td>\n",
       "      <td>2450</td>\n",
       "    </tr>\n",
       "    <tr>\n",
       "      <th>2</th>\n",
       "      <td>OffersScreenAppear</td>\n",
       "      <td>1542</td>\n",
       "    </tr>\n",
       "    <tr>\n",
       "      <th>0</th>\n",
       "      <td>CartScreenAppear</td>\n",
       "      <td>1266</td>\n",
       "    </tr>\n",
       "    <tr>\n",
       "      <th>3</th>\n",
       "      <td>PaymentScreenSuccessful</td>\n",
       "      <td>1200</td>\n",
       "    </tr>\n",
       "  </tbody>\n",
       "</table>\n",
       "</div>"
      ],
      "text/plain": [
       "                event_name  user_id\n",
       "1         MainScreenAppear     2450\n",
       "2       OffersScreenAppear     1542\n",
       "0         CartScreenAppear     1266\n",
       "3  PaymentScreenSuccessful     1200"
      ]
     },
     "execution_count": 23,
     "metadata": {},
     "output_type": "execute_result"
    }
   ],
   "source": [
    "# сделаем срез по каждой группе теста\n",
    "group246 = data.query('group == 246')\n",
    "group247 = data.query('group == 247')\n",
    "group248 = data.query('group == 248')\n",
    "\n",
    "#посмотрим кол-во действий на каждом этапе в каждой отдельной группе\n",
    "group246 = (group246.groupby(['event_name'], as_index=False).agg({'user_id':'nunique'})[['event_name','user_id']]).sort_values(by=\n",
    "                                                                                                                              'user_id',\n",
    "                                                                                                                              ascending=False)\n",
    "group247 = group247.groupby(['event_name'], as_index=False).agg({'user_id':'nunique'})[['event_name','user_id']].sort_values(by=\n",
    "                                                                                                                              'user_id',\n",
    "                                                                                                                              ascending=False)\n",
    "group248 = group248.groupby(['event_name'], as_index=False).agg({'user_id':'nunique'})[['event_name','user_id']].sort_values(by=\n",
    "                                                                                                                              'user_id',\n",
    "                                                                                                                              ascending=False)\n",
    "group246"
   ]
  },
  {
   "cell_type": "code",
   "execution_count": 24,
   "metadata": {},
   "outputs": [
    {
     "name": "stdout",
     "output_type": "stream",
     "text": [
      "                event_name  user_id     share\n",
      "1         MainScreenAppear     2450  1.000000\n",
      "2       OffersScreenAppear     1542  0.629388\n",
      "0         CartScreenAppear     1266  0.516735\n",
      "3  PaymentScreenSuccessful     1200  0.489796\n",
      "\n",
      "\n",
      "                event_name  user_id     share\n",
      "1         MainScreenAppear     2476  1.000000\n",
      "2       OffersScreenAppear     1520  0.613893\n",
      "0         CartScreenAppear     1238  0.500000\n",
      "3  PaymentScreenSuccessful     1158  0.467690\n",
      "\n",
      "\n",
      "                event_name  user_id     share\n",
      "1         MainScreenAppear     2493  1.000000\n",
      "2       OffersScreenAppear     1531  0.614120\n",
      "0         CartScreenAppear     1230  0.493381\n",
      "3  PaymentScreenSuccessful     1181  0.473726\n",
      "\n",
      "\n"
     ]
    }
   ],
   "source": [
    "# выведем воронку конверсии из показа главного экрана для всех трех групп\n",
    "test_groups = [group246, group247, group248]\n",
    "for gr in test_groups:\n",
    "    gr['share'] = gr['user_id'].map(lambda x: x/gr['user_id'].max())\n",
    "    print(gr)\n",
    "    print()\n",
    "    print()\n",
    "    \n"
   ]
  },
  {
   "cell_type": "markdown",
   "metadata": {},
   "source": [
    "Видим, что конверсии с главного экрана в другие события у всех трех групп примерно равны. Теперь посмотрим на стат значимость"
   ]
  },
  {
   "cell_type": "code",
   "execution_count": 25,
   "metadata": {},
   "outputs": [],
   "source": [
    "#ф-ция для z-теста\n",
    "\n",
    "def z_test(n1, x1, n2, x2, alpha):\n",
    "    p1 = x1/n1\n",
    "    p2 = x2/n2\n",
    "    p = (p1*n1 + p2*n2)/(n1+n2)\n",
    "    SE = np.sqrt(p*(1-p)*(1/n1 + 1/n2)) #стандартная ошибка\n",
    "    m=SE*st.norm.ppf(1-alpha/2)\n",
    "    z_stat = (p1-p2)/SE\n",
    "    p=st.norm.cdf(np.abs(z_stat))\n",
    "    return 2*(1-p)"
   ]
  },
  {
   "cell_type": "markdown",
   "metadata": {},
   "source": [
    "H0: В группах А1 и А2 конверсия в событие различна\n",
    "\n",
    "Н1: В группах А1 и А2 конверсия в событие не отличается\n",
    ".  \n",
    "- Для проверки гипотез возьмем базовый уровень значимости равный 0.05. Так как тест будет множественный, используем поправку Бонферрони и поделим уровень значимости ɑ на число гипотез:\n"
   ]
  },
  {
   "cell_type": "code",
   "execution_count": 26,
   "metadata": {},
   "outputs": [
    {
     "data": {
      "text/html": [
       "<div>\n",
       "<style scoped>\n",
       "    .dataframe tbody tr th:only-of-type {\n",
       "        vertical-align: middle;\n",
       "    }\n",
       "\n",
       "    .dataframe tbody tr th {\n",
       "        vertical-align: top;\n",
       "    }\n",
       "\n",
       "    .dataframe thead th {\n",
       "        text-align: right;\n",
       "    }\n",
       "</style>\n",
       "<table border=\"1\" class=\"dataframe\">\n",
       "  <thead>\n",
       "    <tr style=\"text-align: right;\">\n",
       "      <th>group</th>\n",
       "      <th>A1</th>\n",
       "      <th>A2</th>\n",
       "      <th>alpha</th>\n",
       "      <th>p-value</th>\n",
       "    </tr>\n",
       "    <tr>\n",
       "      <th>event_name</th>\n",
       "      <th></th>\n",
       "      <th></th>\n",
       "      <th></th>\n",
       "      <th></th>\n",
       "    </tr>\n",
       "  </thead>\n",
       "  <tbody>\n",
       "    <tr>\n",
       "      <th>CartScreenAppear</th>\n",
       "      <td>1266</td>\n",
       "      <td>1238</td>\n",
       "      <td>0.00625</td>\n",
       "      <td>0.228676</td>\n",
       "    </tr>\n",
       "    <tr>\n",
       "      <th>MainScreenAppear</th>\n",
       "      <td>2450</td>\n",
       "      <td>2476</td>\n",
       "      <td>0.00625</td>\n",
       "      <td>0.752670</td>\n",
       "    </tr>\n",
       "    <tr>\n",
       "      <th>OffersScreenAppear</th>\n",
       "      <td>1542</td>\n",
       "      <td>1520</td>\n",
       "      <td>0.00625</td>\n",
       "      <td>0.247861</td>\n",
       "    </tr>\n",
       "    <tr>\n",
       "      <th>PaymentScreenSuccessful</th>\n",
       "      <td>1200</td>\n",
       "      <td>1158</td>\n",
       "      <td>0.00625</td>\n",
       "      <td>0.114466</td>\n",
       "    </tr>\n",
       "  </tbody>\n",
       "</table>\n",
       "</div>"
      ],
      "text/plain": [
       "group                      A1    A2    alpha   p-value\n",
       "event_name                                            \n",
       "CartScreenAppear         1266  1238  0.00625  0.228676\n",
       "MainScreenAppear         2450  2476  0.00625  0.752670\n",
       "OffersScreenAppear       1542  1520  0.00625  0.247861\n",
       "PaymentScreenSuccessful  1200  1158  0.00625  0.114466"
      ]
     },
     "execution_count": 26,
     "metadata": {},
     "output_type": "execute_result"
    }
   ],
   "source": [
    "# Проведем тест между группами А \n",
    "events1 = data.copy()\n",
    "events1 = events1.loc[events1['group']!=248]\n",
    "events1['group'] = events1['group'].astype(str).str.replace('246', 'A1').str.replace('247', 'A2')\n",
    "# кол-во уинков\n",
    "totals1 = events1.groupby('group').agg({'user_id':'nunique'})['user_id']\n",
    "counts1 = events1.pivot_table(index='event_name', columns='group', values='user_id', aggfunc='nunique')\n",
    "# корректируем alpha поправкой Бонферрони\n",
    "counts1['alpha'] = 0.05 / (counts1.shape[0]*2)\n",
    "counts1['p-value'] = counts1.apply(lambda x: z_test(totals1['A1'], x['A1'], totals1['A2'], x['A2'], counts1['alpha']), axis=1)\n",
    "counts1"
   ]
  },
  {
   "cell_type": "code",
   "execution_count": 27,
   "metadata": {},
   "outputs": [
    {
     "data": {
      "text/html": [
       "<div>\n",
       "<style scoped>\n",
       "    .dataframe tbody tr th:only-of-type {\n",
       "        vertical-align: middle;\n",
       "    }\n",
       "\n",
       "    .dataframe tbody tr th {\n",
       "        vertical-align: top;\n",
       "    }\n",
       "\n",
       "    .dataframe thead th {\n",
       "        text-align: right;\n",
       "    }\n",
       "</style>\n",
       "<table border=\"1\" class=\"dataframe\">\n",
       "  <thead>\n",
       "    <tr style=\"text-align: right;\">\n",
       "      <th>group</th>\n",
       "      <th>A1</th>\n",
       "      <th>A2</th>\n",
       "      <th>alpha</th>\n",
       "      <th>p-value</th>\n",
       "      <th>test_summary</th>\n",
       "    </tr>\n",
       "    <tr>\n",
       "      <th>event_name</th>\n",
       "      <th></th>\n",
       "      <th></th>\n",
       "      <th></th>\n",
       "      <th></th>\n",
       "      <th></th>\n",
       "    </tr>\n",
       "  </thead>\n",
       "  <tbody>\n",
       "    <tr>\n",
       "      <th>CartScreenAppear</th>\n",
       "      <td>1266</td>\n",
       "      <td>1238</td>\n",
       "      <td>0.00625</td>\n",
       "      <td>0.228676</td>\n",
       "      <td>Отвергаем Н0</td>\n",
       "    </tr>\n",
       "    <tr>\n",
       "      <th>MainScreenAppear</th>\n",
       "      <td>2450</td>\n",
       "      <td>2476</td>\n",
       "      <td>0.00625</td>\n",
       "      <td>0.752670</td>\n",
       "      <td>Отвергаем Н0</td>\n",
       "    </tr>\n",
       "    <tr>\n",
       "      <th>OffersScreenAppear</th>\n",
       "      <td>1542</td>\n",
       "      <td>1520</td>\n",
       "      <td>0.00625</td>\n",
       "      <td>0.247861</td>\n",
       "      <td>Отвергаем Н0</td>\n",
       "    </tr>\n",
       "    <tr>\n",
       "      <th>PaymentScreenSuccessful</th>\n",
       "      <td>1200</td>\n",
       "      <td>1158</td>\n",
       "      <td>0.00625</td>\n",
       "      <td>0.114466</td>\n",
       "      <td>Отвергаем Н0</td>\n",
       "    </tr>\n",
       "  </tbody>\n",
       "</table>\n",
       "</div>"
      ],
      "text/plain": [
       "group                      A1    A2    alpha   p-value  test_summary\n",
       "event_name                                                          \n",
       "CartScreenAppear         1266  1238  0.00625  0.228676  Отвергаем Н0\n",
       "MainScreenAppear         2450  2476  0.00625  0.752670  Отвергаем Н0\n",
       "OffersScreenAppear       1542  1520  0.00625  0.247861  Отвергаем Н0\n",
       "PaymentScreenSuccessful  1200  1158  0.00625  0.114466  Отвергаем Н0"
      ]
     },
     "execution_count": 27,
     "metadata": {},
     "output_type": "execute_result"
    }
   ],
   "source": [
    "counts1['test_summary'] = 'Отвергаем Н0' \n",
    "counts1.loc[counts1['p-value'] < counts1['alpha'], 'test_summary'] == 'Не можем отвергнуть Н0'\n",
    "counts1"
   ]
  },
  {
   "cell_type": "markdown",
   "metadata": {},
   "source": [
    "##### Вывод: \n",
    "Значимых стат различий между группами А1 и А2 не обнаружено."
   ]
  },
  {
   "cell_type": "markdown",
   "metadata": {},
   "source": [
    "Теперь проведем АВ тест. Аналогично используем поправку Бонферрони для проведения множественного теста. Сравнивать будем объединенную группу А1 и А2 (примем, что они эквивалентны) и группу В:"
   ]
  },
  {
   "cell_type": "code",
   "execution_count": 28,
   "metadata": {
    "scrolled": false
   },
   "outputs": [
    {
     "data": {
      "text/html": [
       "<div>\n",
       "<style scoped>\n",
       "    .dataframe tbody tr th:only-of-type {\n",
       "        vertical-align: middle;\n",
       "    }\n",
       "\n",
       "    .dataframe tbody tr th {\n",
       "        vertical-align: top;\n",
       "    }\n",
       "\n",
       "    .dataframe thead th {\n",
       "        text-align: right;\n",
       "    }\n",
       "</style>\n",
       "<table border=\"1\" class=\"dataframe\">\n",
       "  <thead>\n",
       "    <tr style=\"text-align: right;\">\n",
       "      <th>group</th>\n",
       "      <th>A</th>\n",
       "      <th>B</th>\n",
       "      <th>alpha</th>\n",
       "      <th>p-value</th>\n",
       "    </tr>\n",
       "    <tr>\n",
       "      <th>event_name</th>\n",
       "      <th></th>\n",
       "      <th></th>\n",
       "      <th></th>\n",
       "      <th></th>\n",
       "    </tr>\n",
       "  </thead>\n",
       "  <tbody>\n",
       "    <tr>\n",
       "      <th>CartScreenAppear</th>\n",
       "      <td>2504</td>\n",
       "      <td>1230</td>\n",
       "      <td>0.00625</td>\n",
       "      <td>0.186836</td>\n",
       "    </tr>\n",
       "    <tr>\n",
       "      <th>MainScreenAppear</th>\n",
       "      <td>4926</td>\n",
       "      <td>2493</td>\n",
       "      <td>0.00625</td>\n",
       "      <td>0.348668</td>\n",
       "    </tr>\n",
       "    <tr>\n",
       "      <th>OffersScreenAppear</th>\n",
       "      <td>3062</td>\n",
       "      <td>1531</td>\n",
       "      <td>0.00625</td>\n",
       "      <td>0.445827</td>\n",
       "    </tr>\n",
       "    <tr>\n",
       "      <th>PaymentScreenSuccessful</th>\n",
       "      <td>2358</td>\n",
       "      <td>1181</td>\n",
       "      <td>0.00625</td>\n",
       "      <td>0.610792</td>\n",
       "    </tr>\n",
       "  </tbody>\n",
       "</table>\n",
       "</div>"
      ],
      "text/plain": [
       "group                       A     B    alpha   p-value\n",
       "event_name                                            \n",
       "CartScreenAppear         2504  1230  0.00625  0.186836\n",
       "MainScreenAppear         4926  2493  0.00625  0.348668\n",
       "OffersScreenAppear       3062  1531  0.00625  0.445827\n",
       "PaymentScreenSuccessful  2358  1181  0.00625  0.610792"
      ]
     },
     "execution_count": 28,
     "metadata": {},
     "output_type": "execute_result"
    }
   ],
   "source": [
    "# сравним группы А и В\n",
    "\n",
    "events = data.copy()\n",
    "events['group'] = events['group'].astype(str).str.replace('246|247', 'A').str.replace('248', 'B')\n",
    "# кол-во уинков\n",
    "totals = events.groupby('group').agg({'user_id':'nunique'})['user_id']\n",
    "counts = events.pivot_table(index='event_name', columns='group', values='user_id', aggfunc='nunique')\n",
    "# корректируем alpha поправкой Бонферрони\n",
    "counts['alpha'] = 0.05 / (counts.shape[0]*2)\n",
    "counts['p-value'] = counts.apply(lambda x: z_test(totals['A'], x['A'], totals['B'], x['B'], counts['alpha']), axis=1)\n",
    "counts"
   ]
  },
  {
   "cell_type": "markdown",
   "metadata": {},
   "source": [
    "H0: В группах А и В конверсия в событие различна\n",
    "\n",
    "Н1: В группах А и В конверсия в событие не отличается"
   ]
  },
  {
   "cell_type": "code",
   "execution_count": 29,
   "metadata": {},
   "outputs": [
    {
     "data": {
      "text/html": [
       "<div>\n",
       "<style scoped>\n",
       "    .dataframe tbody tr th:only-of-type {\n",
       "        vertical-align: middle;\n",
       "    }\n",
       "\n",
       "    .dataframe tbody tr th {\n",
       "        vertical-align: top;\n",
       "    }\n",
       "\n",
       "    .dataframe thead th {\n",
       "        text-align: right;\n",
       "    }\n",
       "</style>\n",
       "<table border=\"1\" class=\"dataframe\">\n",
       "  <thead>\n",
       "    <tr style=\"text-align: right;\">\n",
       "      <th>group</th>\n",
       "      <th>A</th>\n",
       "      <th>B</th>\n",
       "      <th>alpha</th>\n",
       "      <th>p-value</th>\n",
       "      <th>test_summary</th>\n",
       "    </tr>\n",
       "    <tr>\n",
       "      <th>event_name</th>\n",
       "      <th></th>\n",
       "      <th></th>\n",
       "      <th></th>\n",
       "      <th></th>\n",
       "      <th></th>\n",
       "    </tr>\n",
       "  </thead>\n",
       "  <tbody>\n",
       "    <tr>\n",
       "      <th>CartScreenAppear</th>\n",
       "      <td>2504</td>\n",
       "      <td>1230</td>\n",
       "      <td>0.00625</td>\n",
       "      <td>0.186836</td>\n",
       "      <td>Отвергаем Н0</td>\n",
       "    </tr>\n",
       "    <tr>\n",
       "      <th>MainScreenAppear</th>\n",
       "      <td>4926</td>\n",
       "      <td>2493</td>\n",
       "      <td>0.00625</td>\n",
       "      <td>0.348668</td>\n",
       "      <td>Отвергаем Н0</td>\n",
       "    </tr>\n",
       "    <tr>\n",
       "      <th>OffersScreenAppear</th>\n",
       "      <td>3062</td>\n",
       "      <td>1531</td>\n",
       "      <td>0.00625</td>\n",
       "      <td>0.445827</td>\n",
       "      <td>Отвергаем Н0</td>\n",
       "    </tr>\n",
       "    <tr>\n",
       "      <th>PaymentScreenSuccessful</th>\n",
       "      <td>2358</td>\n",
       "      <td>1181</td>\n",
       "      <td>0.00625</td>\n",
       "      <td>0.610792</td>\n",
       "      <td>Отвергаем Н0</td>\n",
       "    </tr>\n",
       "  </tbody>\n",
       "</table>\n",
       "</div>"
      ],
      "text/plain": [
       "group                       A     B    alpha   p-value  test_summary\n",
       "event_name                                                          \n",
       "CartScreenAppear         2504  1230  0.00625  0.186836  Отвергаем Н0\n",
       "MainScreenAppear         4926  2493  0.00625  0.348668  Отвергаем Н0\n",
       "OffersScreenAppear       3062  1531  0.00625  0.445827  Отвергаем Н0\n",
       "PaymentScreenSuccessful  2358  1181  0.00625  0.610792  Отвергаем Н0"
      ]
     },
     "execution_count": 29,
     "metadata": {},
     "output_type": "execute_result"
    }
   ],
   "source": [
    "counts['test_summary'] = 'Отвергаем Н0' \n",
    "counts.loc[counts['p-value'] < counts['alpha'], 'test_summary'] == 'Не можем отвергнуть Н0'\n",
    "counts"
   ]
  },
  {
   "cell_type": "markdown",
   "metadata": {},
   "source": [
    "##### Вывод:\n",
    "Значимых стат различий между группами А и В не обнаружено."
   ]
  },
  {
   "cell_type": "markdown",
   "metadata": {},
   "source": [
    "## Вывод:\n",
    "В рамках работы были использованы данные месячного тестирования нового шрифта в приложении. Была проведена техническая предобработка и очистка данных (в т.ч. были очищены данные июля за их незначительным количеством).\n",
    "\n",
    "Была построена воронка событий для всех событий, в результате чего мы выяснили, что до финального этапа воронки (оплаты) в целом доходит 47.7% посетителей.\n",
    "\n",
    "Для большей достоверных результатов перед А/В тестированием было проведено А/А тестирование, которое не выявило значимых различий между группами. А/В тест так же не показал различий между тестируемыми сегментами.\n",
    "\n",
    "Таким образом, Результаты теста не выявили преимуществ использования нового шрифта. В рамках теста на конверсию это изменение не повлияло."
   ]
  }
 ],
 "metadata": {
  "kernelspec": {
   "display_name": "Python 3",
   "language": "python",
   "name": "python3"
  },
  "language_info": {
   "codemirror_mode": {
    "name": "ipython",
    "version": 3
   },
   "file_extension": ".py",
   "mimetype": "text/x-python",
   "name": "python",
   "nbconvert_exporter": "python",
   "pygments_lexer": "ipython3",
   "version": "3.7.6"
  }
 },
 "nbformat": 4,
 "nbformat_minor": 4
}
